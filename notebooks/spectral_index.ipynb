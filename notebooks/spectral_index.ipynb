{
 "cells": [
  {
   "cell_type": "code",
   "execution_count": 1,
   "metadata": {},
   "outputs": [],
   "source": [
    "import h5py\n",
    "import numpy as np\n",
    "from astropy.table import Table\n",
    "import matplotlib.pyplot as plt\n",
    "from spiceracs.utils import fit_pl\n",
    "from astropy.stats import akaike_info_criterion_lsq"
   ]
  },
  {
   "cell_type": "code",
   "execution_count": 2,
   "metadata": {},
   "outputs": [],
   "source": [
    "tab = Table.read(\"/group/ja3/athomson/spice-racs.dr1.corrected.xml\")"
   ]
  },
  {
   "cell_type": "code",
   "execution_count": 3,
   "metadata": {},
   "outputs": [],
   "source": [
    "spectra = h5py.File(\"/group/ja3/athomson/full_spica/casda/spice_racs_dr1_polspec.hdf5\")[\n",
    "    \"polspectra\"\n",
    "]"
   ]
  },
  {
   "cell_type": "code",
   "execution_count": null,
   "metadata": {},
   "outputs": [],
   "source": []
  },
  {
   "cell_type": "code",
   "execution_count": null,
   "metadata": {},
   "outputs": [],
   "source": []
  },
  {
   "cell_type": "code",
   "execution_count": 4,
   "metadata": {},
   "outputs": [],
   "source": [
    "# spectra[row[\"cat_id\"]][\"stokesI\"]"
   ]
  },
  {
   "cell_type": "code",
   "execution_count": 5,
   "metadata": {},
   "outputs": [],
   "source": [
    "# def flat_power_law(nu: np.ndarray, norm: float, ref_nu: float) -> np.ndarray:\n",
    "#     \"\"\"A power law model.\n",
    "\n",
    "#     Args:\n",
    "#         nu (np.ndarray): Frequency array.\n",
    "#         norm (float): Reference flux.\n",
    "#         alpha (float): Spectral index.\n",
    "#         ref_nu (float): Reference frequency.\n",
    "\n",
    "#     Returns:\n",
    "#         np.ndarray: Model flux.\n",
    "#     \"\"\"\n",
    "#     x = (nu/ref_nu)\n",
    "#     return norm * x\n",
    "\n",
    "# def curved_power_law(nu: np.ndarray, norm: float, alpha: float, beta: float, ref_nu: float) -> np.ndarray:\n",
    "#     \"\"\"A power law model.\n",
    "\n",
    "#     Args:\n",
    "#         nu (np.ndarray): Frequency array.\n",
    "#         norm (float): Reference flux.\n",
    "#         alpha (float): Spectral index.\n",
    "#         ref_nu (float): Reference frequency.\n",
    "\n",
    "#     Returns:\n",
    "#         np.ndarray: Model flux.\n",
    "#     \"\"\"\n",
    "#     x = (nu/ref_nu)\n",
    "#     power = alpha + beta * np.log10(x)\n",
    "#     return norm * x ** power"
   ]
  },
  {
   "cell_type": "code",
   "execution_count": 6,
   "metadata": {},
   "outputs": [],
   "source": [
    "# from scipy.optimize import curve_fit\n",
    "# from functools import partial\n",
    "# def fit_pl(freq: np.ndarray, flux: np.ndarray, fluxerr: np.ndarray, nterms:int) -> dict:\n",
    "#     \"\"\"Perform a power law fit to a spectrum.\n",
    "\n",
    "#     Args:\n",
    "#         freq (np.ndarray): Frequency array.\n",
    "#         flux (np.ndarray): Flux array.\n",
    "#         fluxerr (np.ndarray): Error array.\n",
    "\n",
    "#     Returns:\n",
    "#         dict: Best fit parameters.\n",
    "#     \"\"\"\n",
    "#     try:\n",
    "#         goodchan=np.logical_and(np.isfinite(flux),np.isfinite(fluxerr)) #Ignore NaN channels!\n",
    "#         ref_nu = np.nanmean(freq[goodchan])\n",
    "#         p0_long = (np.median(flux[goodchan]), -0.8, 0.0)\n",
    "#         model_func_dict = {\n",
    "#             0: partial(flat_power_law, ref_nu=ref_nu),\n",
    "#             1: partial(power_law, ref_nu=ref_nu),\n",
    "#             2: partial(curved_power_law, ref_nu=ref_nu),\n",
    "#         }\n",
    "#         aics = []\n",
    "#         params = []\n",
    "#         errors = []\n",
    "#         models = []\n",
    "#         for n in range(nterms+1):\n",
    "#             p0 = p0_long[:n+1]\n",
    "#             model_func = model_func_dict[n]\n",
    "#             try:\n",
    "#                 fit_res = curve_fit(\n",
    "#                     model_func,\n",
    "#                     freq[goodchan],\n",
    "#                     flux[goodchan],\n",
    "#                     p0=p0,\n",
    "#                     sigma=fluxerr[goodchan],\n",
    "#                     absolute_sigma=True\n",
    "#                 )\n",
    "#             except RuntimeError:\n",
    "#                 aics.append(np.nan)\n",
    "#                 params.append(np.nan)\n",
    "#                 errors.append(np.nan)\n",
    "#                 models.append(np.nan)\n",
    "#                 print(f\"{n}: {np.nan}\")\n",
    "#                 continue\n",
    "#             best_p, covar = fit_res\n",
    "#             model_arr = model_func(freq, *best_p)\n",
    "#             ssr = np.sum((flux[goodchan] - model_arr[goodchan])**2)\n",
    "#             aic = akaike_info_criterion_lsq(ssr, len(p0), goodchan.sum())\n",
    "#             aics.append(aic)\n",
    "#             params.append(best_p)\n",
    "#             errors.append(np.sqrt(np.diag(covar)))\n",
    "#             models.append(model_arr)\n",
    "#             print(f\"{n}: {aic}\")\n",
    "#         best_n = np.nanargmin(aics)\n",
    "#         print(f\"Best fit: {best_n}, {aics[best_n]}\")\n",
    "#         print(f\"Best fit model: {best_n}\")\n",
    "#         best_p = params[best_n]\n",
    "#         best_e = errors[best_n]\n",
    "#         best_m = models[best_n]\n",
    "#         best_f = model_func_dict[best_n]\n",
    "#         return dict(\n",
    "#             best_n=best_n,\n",
    "#             best_p=best_p,\n",
    "#             best_e=best_e,\n",
    "#             best_m=best_m,\n",
    "#             best_f=best_f,\n",
    "#         )\n",
    "#     except Exception as e:\n",
    "#         print(f\"Failed to fit power law: {e}\")\n",
    "#         return dict(\n",
    "#             best_n=np.nan,\n",
    "#             best_p=np.nan,\n",
    "#             best_e=np.nan,\n",
    "#             best_m=np.ones_like(freq),\n",
    "#             best_f=None,\n",
    "#         )\n",
    "#     #     return dict(\n",
    "#     #         norm=np.nan,\n",
    "#     #         alpha=np.nan,\n",
    "#     #         beta=np.nan,\n",
    "#     #         norm_err=np.nan,\n",
    "#     #         alpha_err=np.nan,\n",
    "#     #         beta_err=np.nan,\n",
    "#     #         chi2=np.nan,\n",
    "#     #         rchi2=np.nan,\n",
    "#     #         dof=np.nan,\n",
    "#     #         ref_nu=np.nan,\n",
    "#     #         model_arr=np.ones_like(freq),\n",
    "#     #     )\n",
    "\n",
    "    \n",
    "#     # err_p = np.sqrt(np.diag(covar))\n",
    "#     # dof = len(freq[goodchan]) - 2\n",
    "    \n",
    "#     # chi2 = np.sum(\n",
    "#     #     ((flux - model_arr) / fluxerr)**2\n",
    "#     #     )\n",
    "#     # \n",
    "    \n",
    "#     # rchi2 = chi2 / dof\n",
    "\n",
    "#     # return dict(\n",
    "#     #     norm=best_p[0],\n",
    "#     #     alpha=best_p[1],\n",
    "#     #     beta=best_p[2],\n",
    "#     #     norm_err=err_p[0],\n",
    "#     #     alpha_err = err_p[1],\n",
    "#     #     beta_err = err_p[2],\n",
    "#     #     chi2=chi2,\n",
    "#     #     rchi2=rchi2,\n",
    "#     #     dof=dof,\n",
    "#     #     ref_nu=ref_nu,\n",
    "#     #     model_arr=model_arr,\n",
    "#     # )"
   ]
  },
  {
   "cell_type": "code",
   "execution_count": 7,
   "metadata": {},
   "outputs": [],
   "source": [
    "import logging as log\n",
    "# Set to debug level\n",
    "log.getLogger().setLevel(log.DEBUG)"
   ]
  },
  {
   "cell_type": "code",
   "execution_count": 19,
   "metadata": {},
   "outputs": [
    {
     "name": "stderr",
     "output_type": "stream",
     "text": [
      "DEBUG:root:0: -2276.640168573538\n",
      "DEBUG:root:1: -2278.911933103658\n",
      "DEBUG:root:2: -2277.484163935427\n",
      "DEBUG:root:Lowest AIC is -2278.911933103658, with 1 params.\n",
      "INFO:root:Best fit: 1, -2278.911933103658\n"
     ]
    },
    {
     "data": {
      "text/plain": [
       "'0.0,0.0,0.0,-1.0494696176275664,0.005478126939233747'"
      ]
     },
     "execution_count": 19,
     "metadata": {},
     "output_type": "execute_result"
    },
    {
     "data": {
      "image/png": "[encoded data removed]",
      "text/plain": [
       "<Figure size 432x288 with 1 Axes>"
      ]
     },
     "metadata": {
      "needs_background": "light"
     },
     "output_type": "display_data"
    }
   ],
   "source": [
    "# idx = np.argmax(tab[\"stokesI\"a])\n",
    "idx = np.where(tab[\"stokesI\"]==np.percentile(tab[\"stokesI\"], 50, method=\"nearest\"))[0][0]\n",
    "row = tab[idx]\n",
    "fit_dict = fit_pl(\n",
    "    spectra[row[\"cat_id\"]][\"freq\"][:],\n",
    "    spectra[row[\"cat_id\"]][\"stokesI\"][:],\n",
    "    spectra[row[\"cat_id\"]][\"stokesI_error\"][:],\n",
    "    nterms=2\n",
    ")\n",
    "# fit_dict\n",
    "\n",
    "# pl_res = fit_dict\n",
    "# # pl_reject =  pl_res['chi2'] > chi2.ppf(0.99, pl_res['dof'])\n",
    "# pl_params = [pl_res[i] for i in ['norm', 'alpha','beta']]\n",
    "nu = spectra[row[\"cat_id\"]][\"freq\"][:]\n",
    "\n",
    "plt.plot(\n",
    "    nu,\n",
    "    # fit_dict[\"best_f\"](nu, *fit_dict[\"best_p\"]),\n",
    "    fit_dict[\"best_m\"],\n",
    "    ls='--',\n",
    "    color='red',\n",
    "    # label=f\"Power-law, r$\\chi^2$  {pl_res['rchi2']:.3f}, reject {pl_reject}\"\n",
    ")\n",
    "plt.errorbar(\n",
    "    spectra[row[\"cat_id\"]][\"freq\"][:],\n",
    "    spectra[row[\"cat_id\"]][\"stokesI\"][:],\n",
    "    yerr=spectra[row[\"cat_id\"]][\"stokesI_error\"][:],\n",
    "    fmt=\".\",\n",
    ")\n",
    "# # plt.xscale(\"log\")\n",
    "# # plt.yscale(\"log\")\n",
    "# print(f\"{fit_dict['best_p']}\")\n",
    "# print(f\"{fit_dict['best_e']}\")\n",
    "# print(f\"{fit_dict['alpha']:0.2f} ± {fit_dict['alpha_err']:0.2f}\")\n",
    "# print(f\"{fit_dict['beta']:0.2f} ± {fit_dict['beta_err']:0.2f}\")\n",
    "','.join(\n",
    "                [\n",
    "                    # Pad with zeros to length 5\n",
    "                    str(i) for i in np.pad(\n",
    "                        fit_dict[\"best_p\"],\n",
    "                        (0, 5-len(fit_dict[\"best_p\"])),\n",
    "                        'constant'\n",
    "                    )[::-1]\n",
    "                ]\n",
    "            )"
   ]
  },
  {
   "cell_type": "code",
   "execution_count": 9,
   "metadata": {},
   "outputs": [
    {
     "data": {
      "text/plain": [
       "array([ -0.0964863 , -22.12348225])"
      ]
     },
     "execution_count": 9,
     "metadata": {},
     "output_type": "execute_result"
    }
   ],
   "source": [
    "fit_dict[\"best_p\"]"
   ]
  },
  {
   "cell_type": "code",
   "execution_count": 10,
   "metadata": {},
   "outputs": [
    {
     "data": {
      "text/plain": [
       "array([  0.        ,   0.        ,   0.        , -22.12348225,\n",
       "        -0.0964863 ])"
      ]
     },
     "execution_count": 10,
     "metadata": {},
     "output_type": "execute_result"
    }
   ],
   "source": [
    "# Pad with zeros to length 5\n",
    "np.pad(fit_dict[\"best_p\"], (0, 5-len(fit_dict[\"best_p\"])), 'constant')[::-1]"
   ]
  },
  {
   "cell_type": "code",
   "execution_count": 11,
   "metadata": {},
   "outputs": [
    {
     "data": {
      "text/plain": [
       "'0.0,0.0,0.0,-22.123482248224818,-0.09648629983708473'"
      ]
     },
     "execution_count": 11,
     "metadata": {},
     "output_type": "execute_result"
    }
   ],
   "source": [
    "','.join(\n",
    "                [\n",
    "                    # Pad with zeros to length 5\n",
    "                    str(i) for i in np.pad(\n",
    "                        fit_dict[\"best_p\"],\n",
    "                        (0, 5-len(fit_dict[\"best_p\"])),\n",
    "                        'constant'\n",
    "                    )[::-1]\n",
    "                ]\n",
    "            )"
   ]
  },
  {
   "cell_type": "code",
   "execution_count": 12,
   "metadata": {},
   "outputs": [
    {
     "data": {
      "text/plain": [
       "array([0.        , 0.        , 0.        , 6.4724462 , 0.09429682])"
      ]
     },
     "execution_count": 12,
     "metadata": {},
     "output_type": "execute_result"
    }
   ],
   "source": [
    "np.pad(fit_dict[\"best_e\"], (0, 5-len(fit_dict[\"best_e\"])), 'constant')[::-1]"
   ]
  },
  {
   "cell_type": "code",
   "execution_count": 13,
   "metadata": {},
   "outputs": [
    {
     "ename": "KeyError",
     "evalue": "'alpha'",
     "output_type": "error",
     "traceback": [
      "\u001b[0;31m---------------------------------------------------------------------------\u001b[0m",
      "\u001b[0;31mKeyError\u001b[0m                                  Traceback (most recent call last)",
      "\u001b[1;32m/group/askap/athomson/repos/spiceracs/notebooks/spectral_index.ipynb Cell 15\u001b[0m in \u001b[0;36m<cell line: 1>\u001b[0;34m()\u001b[0m\n\u001b[0;32m----> <a href='vscode-notebook-cell://ssh-remote%2Bgalaxy/group/askap/athomson/repos/spiceracs/notebooks/spectral_index.ipynb#X16sdnNjb2RlLXJlbW90ZQ%3D%3D?line=0'>1</a>\u001b[0m fit_dict[\u001b[39m\"\u001b[39;49m\u001b[39malpha\u001b[39;49m\u001b[39m\"\u001b[39;49m]\n",
      "\u001b[0;31mKeyError\u001b[0m: 'alpha'"
     ]
    }
   ],
   "source": [
    "fit_dict[\"alpha\"]"
   ]
  },
  {
   "cell_type": "code",
   "execution_count": null,
   "metadata": {},
   "outputs": [
    {
     "data": {
      "text/plain": [
       "7.734888688144985"
      ]
     },
     "execution_count": 39,
     "metadata": {},
     "output_type": "execute_result"
    }
   ],
   "source": [
    "fit_dict[\"alpha_err\"]"
   ]
  },
  {
   "cell_type": "code",
   "execution_count": null,
   "metadata": {},
   "outputs": [],
   "source": [
    "# from scipy.optimize import curve_fit\n",
    "# from functools import partial\n",
    "\n",
    "# # Stolen from GLEAM-X - thanks Uncle Timmy!\n",
    "# def power_law(nu: np.ndarray, norm: float, alpha: float, ripple: float, ref_nu: float) -> np.ndarray:\n",
    "#     \"\"\"A power law model.\n",
    "\n",
    "#     Args:\n",
    "#         nu (np.ndarray): Frequency array.\n",
    "#         norm (float): Reference flux.\n",
    "#         alpha (float): Spectral index.\n",
    "#         ref_nu (float): Reference frequency.\n",
    "\n",
    "#     Returns:\n",
    "#         np.ndarray: Model flux.\n",
    "#     \"\"\"\n",
    "#     return norm * (nu / ref_nu) ** alpha * np.sin(2 * np.pi * (nu / ripple))\n",
    "\n",
    "# def fit_pl(freq: np.ndarray, flux: np.ndarray, fluxerr: np.ndarray) -> dict:\n",
    "#     \"\"\"Perform a power law fit to a spectrum.\n",
    "\n",
    "#     Args:\n",
    "#         freq (np.ndarray): Frequency array.\n",
    "#         flux (np.ndarray): Flux array.\n",
    "#         fluxerr (np.ndarray): Error array.\n",
    "\n",
    "#     Returns:\n",
    "#         dict: Best fit parameters.\n",
    "#     \"\"\"\n",
    "#     goodchan=np.logical_and(np.isfinite(flux),np.isfinite(fluxerr)) #Ignore NaN channels!\n",
    "#     ref_nu = np.nanmean(freq[goodchan])\n",
    "#     p0 = (np.median(flux[goodchan]), -0.8, 25*1e6)\n",
    "#     try:\n",
    "#         fit_res = curve_fit(\n",
    "#             partial(power_law, ref_nu=ref_nu),\n",
    "#             freq[goodchan],\n",
    "#             flux[goodchan],\n",
    "#             p0=p0,\n",
    "#             sigma=fluxerr[goodchan],\n",
    "#             absolute_sigma=True\n",
    "#         )\n",
    "#     except RuntimeError:\n",
    "#         return dict(\n",
    "#             norm=np.nan,\n",
    "#             alpha=np.nan,\n",
    "#             norm_err=np.nan,\n",
    "#             alpha_err=np.nan,\n",
    "#             chi2=np.nan,\n",
    "#             rchi2=np.nan,\n",
    "#             dof=np.nan,\n",
    "#             ref_nu=np.nan,\n",
    "#             model_arr=np.nan,\n",
    "#             ripple=np.nan,\n",
    "#         )\n",
    "\n",
    "#     best_p, covar = fit_res\n",
    "#     err_p = np.sqrt(np.diag(covar))\n",
    "#     dof = len(freq) - 2\n",
    "#     model_arr = power_law(freq, *best_p, ref_nu=ref_nu)\n",
    "#     chi2 = np.sum(\n",
    "#         ((flux - model_arr) / fluxerr)**2\n",
    "#         )\n",
    "#     rchi2 = chi2 / dof\n",
    "\n",
    "#     return dict(\n",
    "#         norm=best_p[0],\n",
    "#         alpha=best_p[1],\n",
    "#         norm_err=err_p[0],\n",
    "#         alpha_err = err_p[1],\n",
    "#         ripple = best_p[2],\n",
    "#         ripple_err = err_p[2],\n",
    "#         chi2=chi2,\n",
    "#         rchi2=rchi2,\n",
    "#         dof=dof,\n",
    "#         ref_nu=ref_nu,\n",
    "#         model_arr=model_arr,\n",
    "#         # ripple=ripple,\n",
    "#     )\n",
    "\n",
    "# # def power_law(nu, norm, alpha, ref_nu):\n",
    "# #     return norm * (nu / ref_nu) ** alpha\n",
    "\n",
    "\n",
    "# # def curved_power_law(nu, norm, alpha, q, ref_nu):\n",
    "# #     spec_nu = nu / ref_nu\n",
    "        \n",
    "# #     return norm * spec_nu ** alpha * \\\n",
    "# #             np.exp(q * np.log(spec_nu)**2)\n",
    "\n",
    "# # def fit_pl(freq, flux, fluxerr):\n",
    "\n",
    "# #     goodchan=np.logical_and(np.isfinite(flux),np.isfinite(fluxerr)) #Ignore NaN channels!\n",
    "# #     ref_nu = np.nanmean(freq[goodchan])\n",
    "# #     p0 = (np.median(flux[goodchan]), -0.8)\n",
    "# #     try:\n",
    "# #         fit_res = curve_fit(\n",
    "# #             partial(power_law, ref_nu=ref_nu),\n",
    "# #             freq[goodchan],\n",
    "# #             flux[goodchan],\n",
    "# #             p0=p0,\n",
    "# #             sigma=fluxerr[goodchan],\n",
    "# #             absolute_sigma=True\n",
    "# #         )\n",
    "# #     except RuntimeError:\n",
    "# #         return None\n",
    "\n",
    "# #     best_p, covar = fit_res\n",
    "# #     err_p = np.sqrt(np.diag(covar))\n",
    "# #     dof = len(freq) - 2\n",
    "# #     model_arr = power_law(freq, *best_p, ref_nu=ref_nu)\n",
    "# #     chi2 = np.sum(\n",
    "# #         ((flux - model_arr) / fluxerr)**2\n",
    "# #         )\n",
    "# #     rchi2 = chi2 / dof\n",
    "\n",
    "# #     return dict(\n",
    "# #         norm=best_p[0], \n",
    "# #         alpha=best_p[1],\n",
    "# #         norm_err=err_p[0],\n",
    "# #         alpha_err = err_p[1],\n",
    "# #         chi2=chi2,\n",
    "# #         rchi2=rchi2,\n",
    "# #         dof=dof,\n",
    "# #         ref_nu=ref_nu,\n",
    "# #         model_arr=model_arr,\n",
    "# #     )\n",
    "\n",
    "\n",
    "# # def fit_cpl(freq, flux, fluxerr):\n",
    "# #     p0 = (np.median(flux), -0.8, 0)\n",
    "\n",
    "# #     try:\n",
    "# #         fit_res = curve_fit(\n",
    "# #             curved_power_law,\n",
    "# #             freq,\n",
    "# #             flux,\n",
    "# #             p0=p0,\n",
    "# #             sigma=fluxerr,\n",
    "# #             absolute_sigma=True\n",
    "# #         )\n",
    "# #     except RuntimeError:\n",
    "# #         return None\n",
    "\n",
    "# #     best_p, covar = fit_res\n",
    "# #     err_p = np.sqrt(np.diag(covar))\n",
    "# #     dof = len(freq) - 3\n",
    "# #     chi2 = np.sum(\n",
    "# #         ((flux - curved_power_law(freq, *best_p)) / fluxerr)**2\n",
    "# #         )\n",
    "# #     rchi2 = chi2 / dof\n",
    "# #     return dict(\n",
    "# #         norm=best_p[0], \n",
    "# #         alpha=best_p[1],\n",
    "# #         q=best_p[2],\n",
    "# #         norm_err=err_p[0],\n",
    "# #         alpha_err = err_p[1],\n",
    "# #         q_err=err_p[2],\n",
    "# #         chi2=chi2,\n",
    "# #         rchi2=rchi2,\n",
    "# #         dof=dof\n",
    "# #         )"
   ]
  },
  {
   "cell_type": "code",
   "execution_count": null,
   "metadata": {},
   "outputs": [],
   "source": []
  },
  {
   "cell_type": "code",
   "execution_count": null,
   "metadata": {},
   "outputs": [
    {
     "data": {
      "image/png": "[encoded data removed]",
      "text/plain": [
       "<Figure size 432x288 with 1 Axes>"
      ]
     },
     "metadata": {
      "needs_background": "light"
     },
     "output_type": "display_data"
    }
   ],
   "source": []
  },
  {
   "cell_type": "code",
   "execution_count": null,
   "metadata": {},
   "outputs": [],
   "source": [
    "from RMtools_1D import do_RMsynth_1D"
   ]
  },
  {
   "cell_type": "code",
   "execution_count": null,
   "metadata": {},
   "outputs": [],
   "source": [
    "data = [\n",
    "    spectra[row[\"cat_id\"]][\"freq\"][:], \n",
    "    spectra[row[\"cat_id\"]][\"stokesI\"][:], \n",
    "    spectra[row[\"cat_id\"]][\"stokesQ\"][:], \n",
    "    spectra[row[\"cat_id\"]][\"stokesU\"][:], \n",
    "    spectra[row[\"cat_id\"]][\"stokesI_error\"][:], \n",
    "    spectra[row[\"cat_id\"]][\"stokesQ_error\"][:], \n",
    "    spectra[row[\"cat_id\"]][\"stokesU_error\"][:]\n",
    "]"
   ]
  },
  {
   "cell_type": "code",
   "execution_count": null,
   "metadata": {},
   "outputs": [
    {
     "name": "stdout",
     "output_type": "stream",
     "text": [
      "496 ms ± 3.78 ms per loop (mean ± std. dev. of 7 runs, 1 loop each)\n"
     ]
    }
   ],
   "source": [
    "%%timeit\n",
    "mDict, aDict = do_RMsynth_1D.run_rmsynth(\n",
    "    data=data,\n",
    "    polyOrd=2,\n",
    "    phiMax_radm2=None,\n",
    "    dPhi_radm2=None,\n",
    "    nSamples=10,\n",
    "    weightType=\"variance\",\n",
    "    fitRMSF=True,\n",
    "    noStokesI=False,\n",
    "    modStokesI=None,\n",
    "    nBits=32,\n",
    "    saveFigures=False,\n",
    "    showPlots=False,\n",
    "    verbose=False,\n",
    "    debug=False,\n",
    "    fit_function=\"log\",\n",
    "    prefixOut=None,\n",
    ")"
   ]
  },
  {
   "cell_type": "code",
   "execution_count": null,
   "metadata": {},
   "outputs": [
    {
     "name": "stdout",
     "output_type": "stream",
     "text": [
      "> Trying [freq_Hz, I, Q, U, dI, dQ, dU] ... success.\n",
      "Successfully read in the Stokes spectra.\n",
      "Plotting the input data and spectral index fit.\n",
      "PhiArr = -3975.30 to 3975.30 by 4.45 (1787 chans).\n",
      "Weight type is 'variance'.\n",
      "Running RM-synthesis by channel.\n",
      "  [========================================] 100%\n",
      "Calculating 1D RMSF and replicating along X & Y axes.\n",
      "Fitting Gaussian to the main lobe.\n",
      "> RM-synthesis completed in 1.27 seconds.\n",
      "\n",
      "--------------------------------------------------------------------------------\n",
      "RESULTS:\n",
      "\n",
      "FWHM RMSF = 54.3 rad/m^2\n",
      "Pol Angle = 17.79 (+/-4.585) deg\n",
      "Pol Angle 0 = 139.2 (+/-24.29) deg\n",
      "Peak FD = -18.34 (+/-4.345) rad/m^2\n",
      "freq0_GHz = 0.8819 \n",
      "I freq0 = 0.1031 Jy/beam\n",
      "Peak PI = 0.0004602 (+/-7.365e-05) Jy/beam\n",
      "QU Noise = 0.001279 Jy/beam\n",
      "FDF Noise (theory)   = 7.365e-05 Jy/beam\n",
      "FDF Noise (Corrected MAD) = 6.254e-05 Jy/beam\n",
      "FDF Noise (rms)   = 0.0001304 Jy/beam\n",
      "FDF SNR = 6.248 \n",
      "sigma_add(q) = 0.02819 (+0.09736, -0.02008)\n",
      "sigma_add(u) = 0.04124 (+0.1578, -0.03332)\n",
      "Fitted polynomial order = 2 \n",
      "\n",
      "--------------------------------------------------------------------------------\n",
      "> Trying [freq_Hz, I, Q, U, dI, dQ, dU] ... success.\n",
      "Successfully read in the Stokes spectra.\n",
      "Plotting the input data and spectral index fit.\n",
      "PhiArr = -3975.30 to 3975.30 by 4.45 (1787 chans).\n",
      "Weight type is 'variance'.\n",
      "Running RM-synthesis by channel.\n",
      "  [========================================] 100%\n",
      "Calculating 1D RMSF and replicating along X & Y axes.\n",
      "Fitting Gaussian to the main lobe.\n",
      "> RM-synthesis completed in 1.32 seconds.\n",
      "\n",
      "--------------------------------------------------------------------------------\n",
      "RESULTS:\n",
      "\n",
      "FWHM RMSF = 54.3 rad/m^2\n",
      "Pol Angle = 17.79 (+/-4.585) deg\n",
      "Pol Angle 0 = 139.2 (+/-24.29) deg\n",
      "Peak FD = -18.34 (+/-4.345) rad/m^2\n",
      "freq0_GHz = 0.8819 \n",
      "I freq0 = 0.1031 Jy/beam\n",
      "Peak PI = 0.0004602 (+/-7.365e-05) Jy/beam\n",
      "QU Noise = 0.001279 Jy/beam\n",
      "FDF Noise (theory)   = 7.365e-05 Jy/beam\n",
      "FDF Noise (Corrected MAD) = 6.254e-05 Jy/beam\n",
      "FDF Noise (rms)   = 0.0001304 Jy/beam\n",
      "FDF SNR = 6.248 \n",
      "sigma_add(q) = 0.02819 (+0.09736, -0.02008)\n",
      "sigma_add(u) = 0.04124 (+0.1578, -0.03332)\n",
      "Fitted polynomial order = 2 \n",
      "\n",
      "--------------------------------------------------------------------------------\n",
      "> Trying [freq_Hz, I, Q, U, dI, dQ, dU] ... success.\n",
      "Successfully read in the Stokes spectra.\n",
      "Plotting the input data and spectral index fit.\n",
      "PhiArr = -3975.30 to 3975.30 by 4.45 (1787 chans).\n",
      "Weight type is 'variance'.\n",
      "Running RM-synthesis by channel.\n",
      "  [========================================] 100%\n",
      "Calculating 1D RMSF and replicating along X & Y axes.\n",
      "Fitting Gaussian to the main lobe.\n",
      "> RM-synthesis completed in 1.20 seconds.\n",
      "\n",
      "--------------------------------------------------------------------------------\n",
      "RESULTS:\n",
      "\n",
      "FWHM RMSF = 54.3 rad/m^2\n",
      "Pol Angle = 17.79 (+/-4.585) deg\n",
      "Pol Angle 0 = 139.2 (+/-24.29) deg\n",
      "Peak FD = -18.34 (+/-4.345) rad/m^2\n",
      "freq0_GHz = 0.8819 \n",
      "I freq0 = 0.1031 Jy/beam\n",
      "Peak PI = 0.0004602 (+/-7.365e-05) Jy/beam\n",
      "QU Noise = 0.001279 Jy/beam\n",
      "FDF Noise (theory)   = 7.365e-05 Jy/beam\n",
      "FDF Noise (Corrected MAD) = 6.254e-05 Jy/beam\n",
      "FDF Noise (rms)   = 0.0001304 Jy/beam\n",
      "FDF SNR = 6.248 \n",
      "sigma_add(q) = 0.02819 (+0.09736, -0.02008)\n",
      "sigma_add(u) = 0.04124 (+0.1578, -0.03332)\n",
      "Fitted polynomial order = 2 \n",
      "\n",
      "--------------------------------------------------------------------------------\n",
      "> Trying [freq_Hz, I, Q, U, dI, dQ, dU] ... success.\n",
      "Successfully read in the Stokes spectra.\n",
      "Plotting the input data and spectral index fit.\n",
      "PhiArr = -3975.30 to 3975.30 by 4.45 (1787 chans).\n",
      "Weight type is 'variance'.\n",
      "Running RM-synthesis by channel.\n",
      "  [========================================] 100%\n",
      "Calculating 1D RMSF and replicating along X & Y axes.\n",
      "Fitting Gaussian to the main lobe.\n",
      "> RM-synthesis completed in 1.19 seconds.\n",
      "\n",
      "--------------------------------------------------------------------------------\n",
      "RESULTS:\n",
      "\n",
      "FWHM RMSF = 54.3 rad/m^2\n",
      "Pol Angle = 17.79 (+/-4.585) deg\n",
      "Pol Angle 0 = 139.2 (+/-24.29) deg\n",
      "Peak FD = -18.34 (+/-4.345) rad/m^2\n",
      "freq0_GHz = 0.8819 \n",
      "I freq0 = 0.1031 Jy/beam\n",
      "Peak PI = 0.0004602 (+/-7.365e-05) Jy/beam\n",
      "QU Noise = 0.001279 Jy/beam\n",
      "FDF Noise (theory)   = 7.365e-05 Jy/beam\n",
      "FDF Noise (Corrected MAD) = 6.254e-05 Jy/beam\n",
      "FDF Noise (rms)   = 0.0001304 Jy/beam\n",
      "FDF SNR = 6.248 \n",
      "sigma_add(q) = 0.02819 (+0.09736, -0.02008)\n",
      "sigma_add(u) = 0.04124 (+0.1578, -0.03332)\n",
      "Fitted polynomial order = 2 \n",
      "\n",
      "--------------------------------------------------------------------------------\n",
      "> Trying [freq_Hz, I, Q, U, dI, dQ, dU] ... success.\n",
      "Successfully read in the Stokes spectra.\n",
      "Plotting the input data and spectral index fit.\n",
      "PhiArr = -3975.30 to 3975.30 by 4.45 (1787 chans).\n",
      "Weight type is 'variance'.\n",
      "Running RM-synthesis by channel.\n",
      "  [========================================] 100%\n",
      "Calculating 1D RMSF and replicating along X & Y axes.\n",
      "Fitting Gaussian to the main lobe.\n",
      "> RM-synthesis completed in 1.25 seconds.\n",
      "\n",
      "--------------------------------------------------------------------------------\n",
      "RESULTS:\n",
      "\n",
      "FWHM RMSF = 54.3 rad/m^2\n",
      "Pol Angle = 17.79 (+/-4.585) deg\n",
      "Pol Angle 0 = 139.2 (+/-24.29) deg\n",
      "Peak FD = -18.34 (+/-4.345) rad/m^2\n",
      "freq0_GHz = 0.8819 \n",
      "I freq0 = 0.1031 Jy/beam\n",
      "Peak PI = 0.0004602 (+/-7.365e-05) Jy/beam\n",
      "QU Noise = 0.001279 Jy/beam\n",
      "FDF Noise (theory)   = 7.365e-05 Jy/beam\n",
      "FDF Noise (Corrected MAD) = 6.254e-05 Jy/beam\n",
      "FDF Noise (rms)   = 0.0001304 Jy/beam\n",
      "FDF SNR = 6.248 \n",
      "sigma_add(q) = 0.02819 (+0.09736, -0.02008)\n",
      "sigma_add(u) = 0.04124 (+0.1578, -0.03332)\n",
      "Fitted polynomial order = 2 \n",
      "\n",
      "--------------------------------------------------------------------------------\n",
      "> Trying [freq_Hz, I, Q, U, dI, dQ, dU] ... success.\n",
      "Successfully read in the Stokes spectra.\n",
      "Plotting the input data and spectral index fit.\n",
      "PhiArr = -3975.30 to 3975.30 by 4.45 (1787 chans).\n",
      "Weight type is 'variance'.\n",
      "Running RM-synthesis by channel.\n",
      "  [========================================] 100%\n",
      "Calculating 1D RMSF and replicating along X & Y axes.\n",
      "Fitting Gaussian to the main lobe.\n",
      "> RM-synthesis completed in 1.26 seconds.\n",
      "\n",
      "--------------------------------------------------------------------------------\n",
      "RESULTS:\n",
      "\n",
      "FWHM RMSF = 54.3 rad/m^2\n",
      "Pol Angle = 17.79 (+/-4.585) deg\n",
      "Pol Angle 0 = 139.2 (+/-24.29) deg\n",
      "Peak FD = -18.34 (+/-4.345) rad/m^2\n",
      "freq0_GHz = 0.8819 \n",
      "I freq0 = 0.1031 Jy/beam\n",
      "Peak PI = 0.0004602 (+/-7.365e-05) Jy/beam\n",
      "QU Noise = 0.001279 Jy/beam\n",
      "FDF Noise (theory)   = 7.365e-05 Jy/beam\n",
      "FDF Noise (Corrected MAD) = 6.254e-05 Jy/beam\n",
      "FDF Noise (rms)   = 0.0001304 Jy/beam\n",
      "FDF SNR = 6.248 \n",
      "sigma_add(q) = 0.02819 (+0.09736, -0.02008)\n",
      "sigma_add(u) = 0.04124 (+0.1578, -0.03332)\n",
      "Fitted polynomial order = 2 \n",
      "\n",
      "--------------------------------------------------------------------------------\n",
      "> Trying [freq_Hz, I, Q, U, dI, dQ, dU] ... success.\n",
      "Successfully read in the Stokes spectra.\n",
      "Plotting the input data and spectral index fit.\n",
      "PhiArr = -3975.30 to 3975.30 by 4.45 (1787 chans).\n",
      "Weight type is 'variance'.\n",
      "Running RM-synthesis by channel.\n",
      "  [========================================] 100%\n",
      "Calculating 1D RMSF and replicating along X & Y axes.\n",
      "Fitting Gaussian to the main lobe.\n",
      "> RM-synthesis completed in 1.25 seconds.\n",
      "\n",
      "--------------------------------------------------------------------------------\n",
      "RESULTS:\n",
      "\n",
      "FWHM RMSF = 54.3 rad/m^2\n",
      "Pol Angle = 17.79 (+/-4.585) deg\n",
      "Pol Angle 0 = 139.2 (+/-24.29) deg\n",
      "Peak FD = -18.34 (+/-4.345) rad/m^2\n",
      "freq0_GHz = 0.8819 \n",
      "I freq0 = 0.1031 Jy/beam\n",
      "Peak PI = 0.0004602 (+/-7.365e-05) Jy/beam\n",
      "QU Noise = 0.001279 Jy/beam\n",
      "FDF Noise (theory)   = 7.365e-05 Jy/beam\n",
      "FDF Noise (Corrected MAD) = 6.254e-05 Jy/beam\n",
      "FDF Noise (rms)   = 0.0001304 Jy/beam\n",
      "FDF SNR = 6.248 \n",
      "sigma_add(q) = 0.02819 (+0.09736, -0.02008)\n",
      "sigma_add(u) = 0.04124 (+0.1578, -0.03332)\n",
      "Fitted polynomial order = 2 \n",
      "\n",
      "--------------------------------------------------------------------------------\n",
      "> Trying [freq_Hz, I, Q, U, dI, dQ, dU] ... success.\n",
      "Successfully read in the Stokes spectra.\n",
      "Plotting the input data and spectral index fit.\n",
      "PhiArr = -3975.30 to 3975.30 by 4.45 (1787 chans).\n",
      "Weight type is 'variance'.\n",
      "Running RM-synthesis by channel.\n",
      "  [========================================] 100%\n",
      "Calculating 1D RMSF and replicating along X & Y axes.\n",
      "Fitting Gaussian to the main lobe.\n",
      "> RM-synthesis completed in 1.26 seconds.\n",
      "\n",
      "--------------------------------------------------------------------------------\n",
      "RESULTS:\n",
      "\n",
      "FWHM RMSF = 54.3 rad/m^2\n",
      "Pol Angle = 17.79 (+/-4.585) deg\n",
      "Pol Angle 0 = 139.2 (+/-24.29) deg\n",
      "Peak FD = -18.34 (+/-4.345) rad/m^2\n",
      "freq0_GHz = 0.8819 \n",
      "I freq0 = 0.1031 Jy/beam\n",
      "Peak PI = 0.0004602 (+/-7.365e-05) Jy/beam\n",
      "QU Noise = 0.001279 Jy/beam\n",
      "FDF Noise (theory)   = 7.365e-05 Jy/beam\n",
      "FDF Noise (Corrected MAD) = 6.254e-05 Jy/beam\n",
      "FDF Noise (rms)   = 0.0001304 Jy/beam\n",
      "FDF SNR = 6.248 \n",
      "sigma_add(q) = 0.02819 (+0.09736, -0.02008)\n",
      "sigma_add(u) = 0.04124 (+0.1578, -0.03332)\n",
      "Fitted polynomial order = 2 \n",
      "\n",
      "--------------------------------------------------------------------------------\n",
      "1.45 s ± 40.5 ms per loop (mean ± std. dev. of 7 runs, 1 loop each)\n"
     ]
    }
   ],
   "source": [
    "%%timeit\n",
    "mDict, aDict = do_RMsynth_1D.run_rmsynth(\n",
    "    data=data,\n",
    "    polyOrd=2,\n",
    "    phiMax_radm2=None,\n",
    "    dPhi_radm2=None,\n",
    "    nSamples=10,\n",
    "    weightType=\"variance\",\n",
    "    fitRMSF=True,\n",
    "    noStokesI=False,\n",
    "    modStokesI=None,\n",
    "    nBits=32,\n",
    "    saveFigures=False,\n",
    "    showPlots=False,\n",
    "    verbose=True,\n",
    "    debug=False,\n",
    "    fit_function=\"log\",\n",
    "    prefixOut=None,\n",
    ")"
   ]
  },
  {
   "cell_type": "code",
   "execution_count": null,
   "metadata": {},
   "outputs": [
    {
     "name": "stdout",
     "output_type": "stream",
     "text": [
      "0.0,0.0,0.0,3.1382655282919676,-1.27181698654508,0.09936123666616102\n",
      "0.0,0.0,0.0,1.0992576067877982,0.03528437780403348,0.00043642697307509024\n"
     ]
    }
   ],
   "source": [
    "mDict, aDict = do_RMsynth_1D.run_rmsynth(\n",
    "    data=data,\n",
    "    polyOrd=2,\n",
    "    phiMax_radm2=None,\n",
    "    dPhi_radm2=None,\n",
    "    nSamples=10,\n",
    "    weightType=\"variance\",\n",
    "    fitRMSF=True,\n",
    "    noStokesI=False,\n",
    "    modStokesI=None,\n",
    "    nBits=32,\n",
    "    saveFigures=False,\n",
    "    showPlots=False,\n",
    "    verbose=False,\n",
    "    debug=False,\n",
    "    fit_function=\"log\",\n",
    "    prefixOut=None,\n",
    ")\n",
    "print(mDict[\"polyCoeffs\"])\n",
    "print(mDict[\"polyCoefferr\"])"
   ]
  },
  {
   "cell_type": "code",
   "execution_count": null,
   "metadata": {},
   "outputs": [
    {
     "name": "stdout",
     "output_type": "stream",
     "text": [
      "Using provided model Stokes I spectrum\n",
      "0.0,0.0,0.0,0.0,0.0,1.0\n",
      "0.0,0.0,0.0,0.0,0.0,0.0\n"
     ]
    }
   ],
   "source": [
    "mDict, aDict = do_RMsynth_1D.run_rmsynth(\n",
    "    data=data,\n",
    "    polyOrd=2,\n",
    "    phiMax_radm2=None,\n",
    "    dPhi_radm2=None,\n",
    "    nSamples=10,\n",
    "    weightType=\"variance\",\n",
    "    fitRMSF=True,\n",
    "    noStokesI=False,\n",
    "    modStokesI=fit_dict[\"model_arr\"],\n",
    "    nBits=32,\n",
    "    saveFigures=False,\n",
    "    showPlots=False,\n",
    "    verbose=False,\n",
    "    debug=False,\n",
    "    fit_function=\"log\",\n",
    "    prefixOut=None,\n",
    ")\n",
    "print(mDict[\"polyCoeffs\"])\n",
    "print(mDict[\"polyCoefferr\"])"
   ]
  },
  {
   "cell_type": "code",
   "execution_count": null,
   "metadata": {},
   "outputs": [
    {
     "data": {
      "text/plain": [
       "23"
      ]
     },
     "execution_count": 58,
     "metadata": {},
     "output_type": "execute_result"
    }
   ],
   "source": [
    "len(mDict[\"polyCoeffs\"])"
   ]
  },
  {
   "cell_type": "code",
   "execution_count": null,
   "metadata": {},
   "outputs": [
    {
     "data": {
      "text/plain": [
       "'0.0,0.0,0.0,0.10028280093766442,-1.2716316650762638'"
      ]
     },
     "execution_count": 61,
     "metadata": {},
     "output_type": "execute_result"
    }
   ],
   "source": [
    "alpha = fit_dict[\"alpha\"]\n",
    "amplitude = fit_dict[\"norm\"]\n",
    "x_0 = fit_dict[\"ref_nu\"]\n",
    "modStokesI = fit_dict[\"model_arr\"]\n",
    "model_repr = None\n"
   ]
  },
  {
   "cell_type": "code",
   "execution_count": null,
   "metadata": {},
   "outputs": [
    {
     "data": {
      "text/plain": [
       "{'norm': 0.10028280093766442,\n",
       " 'alpha': -1.2716316650762638,\n",
       " 'norm_err': 0.00029297711216633073,\n",
       " 'alpha_err': 0.03554805587626449,\n",
       " 'chi2': nan,\n",
       " 'rchi2': nan,\n",
       " 'dof': 286,\n",
       " 'ref_nu': 907226792.2428458,\n",
       " 'model_arr': array([0.12905517, 0.12883493, 0.12861535, 0.12839644, 0.1281782 ,\n",
       "        0.12796062, 0.1277437 , 0.12752743, 0.12731182, 0.12709686,\n",
       "        0.12688254, 0.12666887, 0.12645585, 0.12624346, 0.1260317 ,\n",
       "        0.12582059, 0.1256101 , 0.12540024, 0.125191  , 0.12498239,\n",
       "        0.1247744 , 0.12456703, 0.12436027, 0.12415412, 0.12394859,\n",
       "        0.12374366, 0.12353933, 0.12333561, 0.12313248, 0.12292996,\n",
       "        0.12272802, 0.12252668, 0.12232593, 0.12212576, 0.12192618,\n",
       "        0.12172719, 0.12152877, 0.12133092, 0.12113366, 0.12093696,\n",
       "        0.12074084, 0.12054528, 0.12035028, 0.12015585, 0.11996198,\n",
       "        0.11976867, 0.11957592, 0.11938371, 0.11919206, 0.11900096,\n",
       "        0.1188104 , 0.11862039, 0.11843092, 0.11824199, 0.1180536 ,\n",
       "        0.11786575, 0.11767842, 0.11749163, 0.11730537, 0.11711964,\n",
       "        0.11693442, 0.11674974, 0.11656557, 0.11638192, 0.11619879,\n",
       "        0.11601617, 0.11583406, 0.11565246, 0.11547137, 0.11529079,\n",
       "        0.11511071, 0.11493113, 0.11475205, 0.11457347, 0.11439539,\n",
       "        0.1142178 , 0.1140407 , 0.11386409, 0.11368797, 0.11351234,\n",
       "        0.11333719, 0.11316252, 0.11298833, 0.11281462, 0.11264139,\n",
       "        0.11246863, 0.11229635, 0.11212453, 0.11195319, 0.11178231,\n",
       "        0.1116119 , 0.11144195, 0.11127246, 0.11110343, 0.11093486,\n",
       "        0.11076675, 0.11059909, 0.11043189, 0.11026513, 0.11009883,\n",
       "        0.10993297, 0.10976755, 0.10960259, 0.10943806, 0.10927398,\n",
       "        0.10911033, 0.10894712, 0.10878435, 0.10862201, 0.1084601 ,\n",
       "        0.10829863, 0.10813758, 0.10797696, 0.10781676, 0.10765699,\n",
       "        0.10749764, 0.10733872, 0.10718021, 0.10702212, 0.10686445,\n",
       "        0.10670719, 0.10655034, 0.1063939 , 0.10623788, 0.10608226,\n",
       "        0.10592705, 0.10577225, 0.10561784, 0.10546384, 0.10531025,\n",
       "        0.10515705, 0.10500424, 0.10485184, 0.10469983, 0.10454821,\n",
       "        0.10439698, 0.10424615, 0.1040957 , 0.10394564, 0.10379597,\n",
       "        0.10364668, 0.10349777, 0.10334925, 0.10320111, 0.10305334,\n",
       "        0.10290595, 0.10275894, 0.10261231, 0.10246604, 0.10232015,\n",
       "        0.10217463, 0.10202948, 0.1018847 , 0.10174028, 0.10159623,\n",
       "        0.10145254, 0.10130922, 0.10116626, 0.10102365, 0.10088141,\n",
       "        0.10073952, 0.10059799, 0.10045681, 0.10031599, 0.10017552,\n",
       "        0.1000354 , 0.09989563, 0.09975621, 0.09961714, 0.09947841,\n",
       "        0.09934002, 0.09920198, 0.09906429, 0.09892693, 0.09878991,\n",
       "        0.09865324, 0.0985169 , 0.09838089, 0.09824522, 0.09810989,\n",
       "        0.09797488, 0.09784021, 0.09770587, 0.09757186, 0.09743818,\n",
       "        0.09730482, 0.09717179, 0.09703908, 0.0969067 , 0.09677464,\n",
       "        0.0966429 , 0.09651148, 0.09638038, 0.09624959, 0.09611913,\n",
       "        0.09598898, 0.09585914, 0.09572962, 0.09560041, 0.09547151,\n",
       "        0.09534292, 0.09521464, 0.09508666, 0.094959  , 0.09483164,\n",
       "        0.09470459, 0.09457783, 0.09445139, 0.09432524, 0.09419939,\n",
       "        0.09407385, 0.0939486 , 0.09382365, 0.093699  , 0.09357464,\n",
       "        0.09345058, 0.09332681, 0.09320333, 0.09308014, 0.09295725,\n",
       "        0.09283464, 0.09271232, 0.0925903 , 0.09246855, 0.0923471 ,\n",
       "        0.09222592, 0.09210503, 0.09198443, 0.0918641 , 0.09174406,\n",
       "        0.0916243 , 0.09150481, 0.09138561, 0.09126668, 0.09114802,\n",
       "        0.09102965, 0.09091154, 0.09079371, 0.09067616, 0.09055887,\n",
       "        0.09044186, 0.09032511, 0.09020863, 0.09009243, 0.08997649,\n",
       "        0.08986081, 0.0897454 , 0.08963026, 0.08951538, 0.08940076,\n",
       "        0.0892864 , 0.0891723 , 0.08905847, 0.08894489, 0.08883158,\n",
       "        0.08871852, 0.08860571, 0.08849317, 0.08838087, 0.08826884,\n",
       "        0.08815705, 0.08804552, 0.08793424, 0.08782321, 0.08771243,\n",
       "        0.08760191, 0.08749162, 0.08738159, 0.08727181, 0.08716227,\n",
       "        0.08705297, 0.08694392, 0.08683512, 0.08672655, 0.08661823,\n",
       "        0.08651015, 0.08640231, 0.08629472, 0.08618736, 0.08608023,\n",
       "        0.08597335, 0.0858667 , 0.08576029, 0.08565412, 0.08554818,\n",
       "        0.08544247, 0.085337  , 0.08523176])}"
      ]
     },
     "execution_count": 62,
     "metadata": {},
     "output_type": "execute_result"
    }
   ],
   "source": [
    "fit_dict"
   ]
  },
  {
   "cell_type": "code",
   "execution_count": null,
   "metadata": {},
   "outputs": [],
   "source": []
  }
 ],
 "metadata": {
  "kernelspec": {
   "display_name": "Python 3.8.13 ('spice')",
   "language": "python",
   "name": "python3"
  },
  "language_info": {
   "codemirror_mode": {
    "name": "ipython",
    "version": 3
   },
   "file_extension": ".py",
   "mimetype": "text/x-python",
   "name": "python",
   "nbconvert_exporter": "python",
   "pygments_lexer": "ipython3",
   "version": "3.8.13"
  },
  "orig_nbformat": 4,
  "vscode": {
   "interpreter": {
    "hash": "ce2bf890e102d579c5c86493291f02709b8c306fc7327b019cec0956835da22f"
   }
  }
 },
 "nbformat": 4,
 "nbformat_minor": 2
}
